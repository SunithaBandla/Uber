{
 "cells": [
  {
   "cell_type": "code",
   "execution_count": 1,
   "metadata": {},
   "outputs": [],
   "source": [
    "import pandas as pd\n",
    "import numpy as np\n",
    "import matplotlib.pyplot as plt\n",
    "import seaborn as sns"
   ]
  },
  {
   "cell_type": "code",
   "execution_count": 8,
   "metadata": {},
   "outputs": [
    {
     "data": {
      "text/html": [
       "<div>\n",
       "<style scoped>\n",
       "    .dataframe tbody tr th:only-of-type {\n",
       "        vertical-align: middle;\n",
       "    }\n",
       "\n",
       "    .dataframe tbody tr th {\n",
       "        vertical-align: top;\n",
       "    }\n",
       "\n",
       "    .dataframe thead th {\n",
       "        text-align: right;\n",
       "    }\n",
       "</style>\n",
       "<table border=\"1\" class=\"dataframe\">\n",
       "  <thead>\n",
       "    <tr style=\"text-align: right;\">\n",
       "      <th></th>\n",
       "      <th>Request id</th>\n",
       "      <th>Pickup point</th>\n",
       "      <th>Driver id</th>\n",
       "      <th>Status</th>\n",
       "      <th>Request timestamp</th>\n",
       "      <th>Drop timestamp</th>\n",
       "    </tr>\n",
       "  </thead>\n",
       "  <tbody>\n",
       "    <tr>\n",
       "      <th>0</th>\n",
       "      <td>619</td>\n",
       "      <td>Airport</td>\n",
       "      <td>1.0</td>\n",
       "      <td>Trip Completed</td>\n",
       "      <td>11/7/2016 11:51</td>\n",
       "      <td>11/7/2016 13:00</td>\n",
       "    </tr>\n",
       "    <tr>\n",
       "      <th>1</th>\n",
       "      <td>867</td>\n",
       "      <td>Airport</td>\n",
       "      <td>1.0</td>\n",
       "      <td>Trip Completed</td>\n",
       "      <td>11/7/2016 17:57</td>\n",
       "      <td>11/7/2016 18:47</td>\n",
       "    </tr>\n",
       "    <tr>\n",
       "      <th>2</th>\n",
       "      <td>1807</td>\n",
       "      <td>City</td>\n",
       "      <td>1.0</td>\n",
       "      <td>Trip Completed</td>\n",
       "      <td>12/7/2016 9:17</td>\n",
       "      <td>12/7/2016 9:58</td>\n",
       "    </tr>\n",
       "    <tr>\n",
       "      <th>3</th>\n",
       "      <td>2532</td>\n",
       "      <td>Airport</td>\n",
       "      <td>1.0</td>\n",
       "      <td>Trip Completed</td>\n",
       "      <td>12/7/2016 21:08</td>\n",
       "      <td>12/7/2016 22:03</td>\n",
       "    </tr>\n",
       "    <tr>\n",
       "      <th>4</th>\n",
       "      <td>3112</td>\n",
       "      <td>City</td>\n",
       "      <td>1.0</td>\n",
       "      <td>Trip Completed</td>\n",
       "      <td>13-07-2016 08:33:16</td>\n",
       "      <td>13-07-2016 09:25:47</td>\n",
       "    </tr>\n",
       "    <tr>\n",
       "      <th>5</th>\n",
       "      <td>3879</td>\n",
       "      <td>Airport</td>\n",
       "      <td>1.0</td>\n",
       "      <td>Trip Completed</td>\n",
       "      <td>13-07-2016 21:57:28</td>\n",
       "      <td>13-07-2016 22:28:59</td>\n",
       "    </tr>\n",
       "    <tr>\n",
       "      <th>6</th>\n",
       "      <td>4270</td>\n",
       "      <td>Airport</td>\n",
       "      <td>1.0</td>\n",
       "      <td>Trip Completed</td>\n",
       "      <td>14-07-2016 06:15:32</td>\n",
       "      <td>14-07-2016 07:13:15</td>\n",
       "    </tr>\n",
       "    <tr>\n",
       "      <th>7</th>\n",
       "      <td>5510</td>\n",
       "      <td>Airport</td>\n",
       "      <td>1.0</td>\n",
       "      <td>Trip Completed</td>\n",
       "      <td>15-07-2016 05:11:52</td>\n",
       "      <td>15-07-2016 06:07:52</td>\n",
       "    </tr>\n",
       "    <tr>\n",
       "      <th>8</th>\n",
       "      <td>6248</td>\n",
       "      <td>City</td>\n",
       "      <td>1.0</td>\n",
       "      <td>Trip Completed</td>\n",
       "      <td>15-07-2016 17:57:27</td>\n",
       "      <td>15-07-2016 18:50:51</td>\n",
       "    </tr>\n",
       "    <tr>\n",
       "      <th>9</th>\n",
       "      <td>267</td>\n",
       "      <td>City</td>\n",
       "      <td>2.0</td>\n",
       "      <td>Trip Completed</td>\n",
       "      <td>11/7/2016 6:46</td>\n",
       "      <td>11/7/2016 7:25</td>\n",
       "    </tr>\n",
       "  </tbody>\n",
       "</table>\n",
       "</div>"
      ],
      "text/plain": [
       "   Request id Pickup point  Driver id          Status    Request timestamp  \\\n",
       "0         619      Airport        1.0  Trip Completed      11/7/2016 11:51   \n",
       "1         867      Airport        1.0  Trip Completed      11/7/2016 17:57   \n",
       "2        1807         City        1.0  Trip Completed       12/7/2016 9:17   \n",
       "3        2532      Airport        1.0  Trip Completed      12/7/2016 21:08   \n",
       "4        3112         City        1.0  Trip Completed  13-07-2016 08:33:16   \n",
       "5        3879      Airport        1.0  Trip Completed  13-07-2016 21:57:28   \n",
       "6        4270      Airport        1.0  Trip Completed  14-07-2016 06:15:32   \n",
       "7        5510      Airport        1.0  Trip Completed  15-07-2016 05:11:52   \n",
       "8        6248         City        1.0  Trip Completed  15-07-2016 17:57:27   \n",
       "9         267         City        2.0  Trip Completed       11/7/2016 6:46   \n",
       "\n",
       "        Drop timestamp  \n",
       "0      11/7/2016 13:00  \n",
       "1      11/7/2016 18:47  \n",
       "2       12/7/2016 9:58  \n",
       "3      12/7/2016 22:03  \n",
       "4  13-07-2016 09:25:47  \n",
       "5  13-07-2016 22:28:59  \n",
       "6  14-07-2016 07:13:15  \n",
       "7  15-07-2016 06:07:52  \n",
       "8  15-07-2016 18:50:51  \n",
       "9       11/7/2016 7:25  "
      ]
     },
     "execution_count": 8,
     "metadata": {},
     "output_type": "execute_result"
    }
   ],
   "source": [
    "# Loading the data into Dataframe\n",
    "uber = pd.read_csv(\"C:/Users/admin/Downloads/Uber Request Data.csv\")\n",
    "uber.head(10)"
   ]
  },
  {
   "cell_type": "code",
   "execution_count": 10,
   "metadata": {},
   "outputs": [
    {
     "data": {
      "text/plain": [
       "True"
      ]
     },
     "execution_count": 10,
     "metadata": {},
     "output_type": "execute_result"
    }
   ],
   "source": [
    "# make sure that number of duplicate rows are zero\n",
    "sum(uber.duplicated(subset = \"Request id\")) == 0"
   ]
  },
  {
   "cell_type": "markdown",
   "metadata": {},
   "source": [
    "##### let's look at the dimensions of the dataframe"
   ]
  },
  {
   "cell_type": "code",
   "execution_count": 11,
   "metadata": {},
   "outputs": [
    {
     "data": {
      "text/plain": [
       "(6745, 6)"
      ]
     },
     "execution_count": 11,
     "metadata": {},
     "output_type": "execute_result"
    }
   ],
   "source": [
    "uber.shape"
   ]
  },
  {
   "cell_type": "markdown",
   "metadata": {},
   "source": [
    "##### check for NA values in dataset"
   ]
  },
  {
   "cell_type": "code",
   "execution_count": 12,
   "metadata": {},
   "outputs": [
    {
     "name": "stdout",
     "output_type": "stream",
     "text": [
      "Request id              0\n",
      "Pickup point            0\n",
      "Driver id            2650\n",
      "Status                  0\n",
      "Request timestamp       0\n",
      "Drop timestamp       3914\n",
      "dtype: int64\n",
      "True\n",
      "6564\n"
     ]
    }
   ],
   "source": [
    "print (uber.isnull().sum())  \n",
    "print (uber.isnull().values.any())\n",
    "print (uber.isnull().values.sum())"
   ]
  },
  {
   "cell_type": "code",
   "execution_count": 13,
   "metadata": {},
   "outputs": [
    {
     "data": {
      "text/plain": [
       "Request id            0.000000\n",
       "Pickup point          0.000000\n",
       "Driver id            39.288362\n",
       "Status                0.000000\n",
       "Request timestamp     0.000000\n",
       "Drop timestamp       58.028169\n",
       "dtype: float64"
      ]
     },
     "execution_count": 13,
     "metadata": {},
     "output_type": "execute_result"
    }
   ],
   "source": [
    "uber.isnull().sum()*100/uber.shape[0] "
   ]
  },
  {
   "cell_type": "code",
   "execution_count": 56,
   "metadata": {},
   "outputs": [
    {
     "data": {
      "text/html": [
       "<div>\n",
       "<style scoped>\n",
       "    .dataframe tbody tr th:only-of-type {\n",
       "        vertical-align: middle;\n",
       "    }\n",
       "\n",
       "    .dataframe tbody tr th {\n",
       "        vertical-align: top;\n",
       "    }\n",
       "\n",
       "    .dataframe thead th {\n",
       "        text-align: right;\n",
       "    }\n",
       "</style>\n",
       "<table border=\"1\" class=\"dataframe\">\n",
       "  <thead>\n",
       "    <tr style=\"text-align: right;\">\n",
       "      <th></th>\n",
       "      <th>Request id</th>\n",
       "      <th>Pickup_point</th>\n",
       "      <th>Driver id</th>\n",
       "      <th>Status</th>\n",
       "      <th>Request timestamp</th>\n",
       "      <th>Drop timestamp</th>\n",
       "      <th>Request_Date</th>\n",
       "      <th>Request_Hour</th>\n",
       "      <th>Drop Date</th>\n",
       "      <th>Drop_Hour</th>\n",
       "      <th>Part_ofthe_day</th>\n",
       "      <th>Gap</th>\n",
       "    </tr>\n",
       "  </thead>\n",
       "  <tbody>\n",
       "    <tr>\n",
       "      <th>0</th>\n",
       "      <td>619</td>\n",
       "      <td>Airport</td>\n",
       "      <td>1.0</td>\n",
       "      <td>Trip Completed</td>\n",
       "      <td>2016-07-11 11:51:00</td>\n",
       "      <td>2016-11-07 13:00:00</td>\n",
       "      <td>2016-07-11</td>\n",
       "      <td>11</td>\n",
       "      <td>2016-11-07</td>\n",
       "      <td>13</td>\n",
       "      <td>Afternoon</td>\n",
       "      <td>Supply</td>\n",
       "    </tr>\n",
       "    <tr>\n",
       "      <th>1</th>\n",
       "      <td>867</td>\n",
       "      <td>Airport</td>\n",
       "      <td>1.0</td>\n",
       "      <td>Trip Completed</td>\n",
       "      <td>2016-07-11 17:57:00</td>\n",
       "      <td>2016-11-07 18:47:00</td>\n",
       "      <td>2016-07-11</td>\n",
       "      <td>17</td>\n",
       "      <td>2016-11-07</td>\n",
       "      <td>18</td>\n",
       "      <td>Evening</td>\n",
       "      <td>Supply</td>\n",
       "    </tr>\n",
       "    <tr>\n",
       "      <th>2</th>\n",
       "      <td>1807</td>\n",
       "      <td>City</td>\n",
       "      <td>1.0</td>\n",
       "      <td>Trip Completed</td>\n",
       "      <td>2016-07-12 09:17:00</td>\n",
       "      <td>2016-12-07 09:58:00</td>\n",
       "      <td>2016-07-12</td>\n",
       "      <td>9</td>\n",
       "      <td>2016-12-07</td>\n",
       "      <td>9</td>\n",
       "      <td>Morning</td>\n",
       "      <td>Supply</td>\n",
       "    </tr>\n",
       "    <tr>\n",
       "      <th>3</th>\n",
       "      <td>2532</td>\n",
       "      <td>Airport</td>\n",
       "      <td>1.0</td>\n",
       "      <td>Trip Completed</td>\n",
       "      <td>2016-07-12 21:08:00</td>\n",
       "      <td>2016-12-07 22:03:00</td>\n",
       "      <td>2016-07-12</td>\n",
       "      <td>21</td>\n",
       "      <td>2016-12-07</td>\n",
       "      <td>22</td>\n",
       "      <td>Night</td>\n",
       "      <td>Supply</td>\n",
       "    </tr>\n",
       "    <tr>\n",
       "      <th>4</th>\n",
       "      <td>3112</td>\n",
       "      <td>City</td>\n",
       "      <td>1.0</td>\n",
       "      <td>Trip Completed</td>\n",
       "      <td>2016-07-13 08:33:16</td>\n",
       "      <td>2016-07-13 09:25:47</td>\n",
       "      <td>2016-07-13</td>\n",
       "      <td>8</td>\n",
       "      <td>2016-07-13</td>\n",
       "      <td>9</td>\n",
       "      <td>Morning</td>\n",
       "      <td>Supply</td>\n",
       "    </tr>\n",
       "    <tr>\n",
       "      <th>5</th>\n",
       "      <td>3879</td>\n",
       "      <td>Airport</td>\n",
       "      <td>1.0</td>\n",
       "      <td>Trip Completed</td>\n",
       "      <td>2016-07-13 21:57:28</td>\n",
       "      <td>2016-07-13 22:28:59</td>\n",
       "      <td>2016-07-13</td>\n",
       "      <td>21</td>\n",
       "      <td>2016-07-13</td>\n",
       "      <td>22</td>\n",
       "      <td>Night</td>\n",
       "      <td>Supply</td>\n",
       "    </tr>\n",
       "    <tr>\n",
       "      <th>6</th>\n",
       "      <td>4270</td>\n",
       "      <td>Airport</td>\n",
       "      <td>1.0</td>\n",
       "      <td>Trip Completed</td>\n",
       "      <td>2016-07-14 06:15:32</td>\n",
       "      <td>2016-07-14 07:13:15</td>\n",
       "      <td>2016-07-14</td>\n",
       "      <td>6</td>\n",
       "      <td>2016-07-14</td>\n",
       "      <td>7</td>\n",
       "      <td>Early morning</td>\n",
       "      <td>Supply</td>\n",
       "    </tr>\n",
       "    <tr>\n",
       "      <th>7</th>\n",
       "      <td>5510</td>\n",
       "      <td>Airport</td>\n",
       "      <td>1.0</td>\n",
       "      <td>Trip Completed</td>\n",
       "      <td>2016-07-15 05:11:52</td>\n",
       "      <td>2016-07-15 06:07:52</td>\n",
       "      <td>2016-07-15</td>\n",
       "      <td>5</td>\n",
       "      <td>2016-07-15</td>\n",
       "      <td>6</td>\n",
       "      <td>Early morning</td>\n",
       "      <td>Supply</td>\n",
       "    </tr>\n",
       "    <tr>\n",
       "      <th>8</th>\n",
       "      <td>6248</td>\n",
       "      <td>City</td>\n",
       "      <td>1.0</td>\n",
       "      <td>Trip Completed</td>\n",
       "      <td>2016-07-15 17:57:27</td>\n",
       "      <td>2016-07-15 18:50:51</td>\n",
       "      <td>2016-07-15</td>\n",
       "      <td>17</td>\n",
       "      <td>2016-07-15</td>\n",
       "      <td>18</td>\n",
       "      <td>Evening</td>\n",
       "      <td>Supply</td>\n",
       "    </tr>\n",
       "    <tr>\n",
       "      <th>9</th>\n",
       "      <td>267</td>\n",
       "      <td>City</td>\n",
       "      <td>2.0</td>\n",
       "      <td>Trip Completed</td>\n",
       "      <td>2016-07-11 06:46:00</td>\n",
       "      <td>2016-11-07 07:25:00</td>\n",
       "      <td>2016-07-11</td>\n",
       "      <td>6</td>\n",
       "      <td>2016-11-07</td>\n",
       "      <td>7</td>\n",
       "      <td>Early morning</td>\n",
       "      <td>Supply</td>\n",
       "    </tr>\n",
       "  </tbody>\n",
       "</table>\n",
       "</div>"
      ],
      "text/plain": [
       "   Request id Pickup_point  Driver id          Status   Request timestamp  \\\n",
       "0         619      Airport        1.0  Trip Completed 2016-07-11 11:51:00   \n",
       "1         867      Airport        1.0  Trip Completed 2016-07-11 17:57:00   \n",
       "2        1807         City        1.0  Trip Completed 2016-07-12 09:17:00   \n",
       "3        2532      Airport        1.0  Trip Completed 2016-07-12 21:08:00   \n",
       "4        3112         City        1.0  Trip Completed 2016-07-13 08:33:16   \n",
       "5        3879      Airport        1.0  Trip Completed 2016-07-13 21:57:28   \n",
       "6        4270      Airport        1.0  Trip Completed 2016-07-14 06:15:32   \n",
       "7        5510      Airport        1.0  Trip Completed 2016-07-15 05:11:52   \n",
       "8        6248         City        1.0  Trip Completed 2016-07-15 17:57:27   \n",
       "9         267         City        2.0  Trip Completed 2016-07-11 06:46:00   \n",
       "\n",
       "       Drop timestamp Request_Date  Request_Hour   Drop Date Drop_Hour  \\\n",
       "0 2016-11-07 13:00:00   2016-07-11            11  2016-11-07        13   \n",
       "1 2016-11-07 18:47:00   2016-07-11            17  2016-11-07        18   \n",
       "2 2016-12-07 09:58:00   2016-07-12             9  2016-12-07         9   \n",
       "3 2016-12-07 22:03:00   2016-07-12            21  2016-12-07        22   \n",
       "4 2016-07-13 09:25:47   2016-07-13             8  2016-07-13         9   \n",
       "5 2016-07-13 22:28:59   2016-07-13            21  2016-07-13        22   \n",
       "6 2016-07-14 07:13:15   2016-07-14             6  2016-07-14         7   \n",
       "7 2016-07-15 06:07:52   2016-07-15             5  2016-07-15         6   \n",
       "8 2016-07-15 18:50:51   2016-07-15            17  2016-07-15        18   \n",
       "9 2016-11-07 07:25:00   2016-07-11             6  2016-11-07         7   \n",
       "\n",
       "  Part_ofthe_day     Gap  \n",
       "0      Afternoon  Supply  \n",
       "1        Evening  Supply  \n",
       "2        Morning  Supply  \n",
       "3          Night  Supply  \n",
       "4        Morning  Supply  \n",
       "5          Night  Supply  \n",
       "6  Early morning  Supply  \n",
       "7  Early morning  Supply  \n",
       "8        Evening  Supply  \n",
       "9  Early morning  Supply  "
      ]
     },
     "execution_count": 56,
     "metadata": {},
     "output_type": "execute_result"
    }
   ],
   "source": [
    "uber.head(10)"
   ]
  },
  {
   "cell_type": "markdown",
   "metadata": {},
   "source": [
    "#### Data cleansing"
   ]
  },
  {
   "cell_type": "code",
   "execution_count": 15,
   "metadata": {},
   "outputs": [],
   "source": [
    "# changing the timestamp format and loading data into new column (i.e Request timestamp,Drop timestamp) and changing the datatypes\n",
    "\n",
    "#['Driver id'] = uber['Driver id'].astype(object).replace(np.nan, None)\n",
    "\n",
    "uber['Request timestamp'] = pd.to_datetime(uber['Request timestamp'],dayfirst=True)\n",
    "uber['Request_Date'] = uber['Request timestamp'].apply(lambda x:x.date())\n",
    "uber['Request_Hour']= uber['Request timestamp'].apply(lambda x:x.hour)\n",
    "\n",
    "uber['Drop timestamp'] = pd.to_datetime(uber['Drop timestamp'])\n",
    "uber['Drop Date'] = uber['Drop timestamp'].apply(lambda x:x.date())\n",
    "uber['Drop_Hour'] = uber['Drop timestamp'].apply(lambda x:x.hour)\n",
    "uber['Drop_Hour'] = uber['Drop_Hour'].astype(object).replace('NaN', None)\n",
    "uber.rename(columns={'Pickup point' : 'Pickup_point'}, inplace = True)\n",
    "\n"
   ]
  },
  {
   "cell_type": "code",
   "execution_count": 16,
   "metadata": {},
   "outputs": [
    {
     "name": "stdout",
     "output_type": "stream",
     "text": [
      "<class 'pandas.core.frame.DataFrame'>\n",
      "RangeIndex: 6745 entries, 0 to 6744\n",
      "Data columns (total 10 columns):\n",
      "Request id           6745 non-null int64\n",
      "Pickup_point         6745 non-null object\n",
      "Driver id            4095 non-null float64\n",
      "Status               6745 non-null object\n",
      "Request timestamp    6745 non-null datetime64[ns]\n",
      "Drop timestamp       2831 non-null datetime64[ns]\n",
      "Request_Date         6745 non-null object\n",
      "Request_Hour         6745 non-null int64\n",
      "Drop Date            2831 non-null object\n",
      "Drop_Hour            2831 non-null object\n",
      "dtypes: datetime64[ns](2), float64(1), int64(2), object(5)\n",
      "memory usage: 527.0+ KB\n"
     ]
    }
   ],
   "source": [
    "uber.info()"
   ]
  },
  {
   "cell_type": "markdown",
   "metadata": {},
   "source": [
    "### Data Visuvilization"
   ]
  },
  {
   "cell_type": "code",
   "execution_count": 17,
   "metadata": {},
   "outputs": [
    {
     "data": {
      "image/png": "[encoded data removed]",
      "text/plain": [
       "<Figure size 864x432 with 2 Axes>"
      ]
     },
     "metadata": {
      "needs_background": "light"
     },
     "output_type": "display_data"
    }
   ],
   "source": [
    "# Plotting Frequency of request and its response \n",
    "\n",
    "plt.figure(figsize=(12,6))\n",
    "plt.subplot(1,2,1)\n",
    "plt.title(\"Trip Request Status\")\n",
    "plt.xlabel('Trip Status')\n",
    "plt.ylabel('Frequency')\n",
    "sns.countplot(x='Status', data = uber, palette=\"BuGn_r\")\n",
    "plt.xticks(rotation=0)\n",
    "\n",
    "# Plotting Frequency of request and its response only for 'Cancelled and No cars available'\n",
    "\n",
    "plt.subplot(1,2,2)\n",
    "plt.title(\"Cancelled / No_Cars available\")\n",
    "plt.xlabel('Trip Status')\n",
    "plt.ylabel('Frequency')\n",
    "uber_frequency = uber[(uber.Status == 'Cancelled') | (uber.Status == 'No Cars Available')]\n",
    "sns.countplot(x='Status', data = uber_frequency, palette = \"Blues\")\n",
    "plt.xticks(rotation=0)\n",
    "plt.show()"
   ]
  },
  {
   "cell_type": "code",
   "execution_count": 18,
   "metadata": {},
   "outputs": [
    {
     "data": {
      "image/png": "[encoded data removed]",
      "text/plain": [
       "<Figure size 432x288 with 1 Axes>"
      ]
     },
     "metadata": {
      "needs_background": "light"
     },
     "output_type": "display_data"
    }
   ],
   "source": [
    "# Identifying Problemetic type of request(i.e city to airport/airport to city)\n",
    "\n",
    "uber_freq = uber_frequency.groupby(['Pickup_point','Status']).size().unstack(fill_value=0).plot(kind='bar')\n",
    "plt.xticks(rotation=0)\n",
    "plt.show()"
   ]
  },
  {
   "cell_type": "code",
   "execution_count": 53,
   "metadata": {},
   "outputs": [
    {
     "data": {
      "image/png": "[encoded data removed]",
      "text/plain": [
       "<Figure size 1008x504 with 1 Axes>"
      ]
     },
     "metadata": {
      "needs_background": "light"
     },
     "output_type": "display_data"
    }
   ],
   "source": [
    "# Hourly based request status (i.e cancelled/no cars available)\n",
    "\n",
    "plt.figure(figsize=(14,7))\n",
    "plt.title(\"Hour based request\")\n",
    "sns.countplot(x='Request_Hour', hue = 'Status', data = uber,  palette=\"husl\")\n",
    "plt.show()"
   ]
  },
  {
   "cell_type": "code",
   "execution_count": 62,
   "metadata": {},
   "outputs": [
    {
     "data": {
      "text/plain": [
       "<Figure size 1008x504 with 0 Axes>"
      ]
     },
     "metadata": {},
     "output_type": "display_data"
    },
    {
     "data": {
      "image/png": "[encoded data removed]",
      "text/plain": [
       "<Figure size 1924.12x360 with 5 Axes>"
      ]
     },
     "metadata": {
      "needs_background": "light"
     },
     "output_type": "display_data"
    }
   ],
   "source": [
    "# Request hour w.r.t independent of the day's\n",
    "plt.figure(figsize=(14,7))\n",
    "sns.catplot(x='Request_Hour', kind='count', col='Request_Date',hue='Status', data=uber, \n",
    "            palette=\"BuGn_r\")\n",
    "plt.show()\n",
    "\n",
    "#sns.factorplot(x = \"Request_Hour\", hue = \"Status\", row = \"Request_Date\", data = uber, kind = \"count\")"
   ]
  },
  {
   "cell_type": "code",
   "execution_count": 65,
   "metadata": {},
   "outputs": [
    {
     "data": {
      "text/plain": [
       "<Figure size 1008x504 with 0 Axes>"
      ]
     },
     "metadata": {},
     "output_type": "display_data"
    },
    {
     "data": {
      "image/png": "[encoded data removed]",
      "text/plain": [
       "<Figure size 1871.12x360 with 5 Axes>"
      ]
     },
     "metadata": {
      "needs_background": "light"
     },
     "output_type": "display_data"
    }
   ],
   "source": [
    "# Request hour w.r.t independent of the day's\n",
    "plt.figure(figsize=(14,7))\n",
    "sns.catplot(x='Request_Hour', kind='count', col='Request_Date',hue='Pickup_point', data=uber, \n",
    "            palette=\"BuGn_r\")\n",
    "plt.show()"
   ]
  },
  {
   "cell_type": "code",
   "execution_count": 36,
   "metadata": {},
   "outputs": [],
   "source": [
    "#creating derived metrics for time slots i.e time period of the day\n",
    "\n",
    "uber['Part_ofthe_day'] = 'Late Nights'\n",
    "uber.loc[uber['Request_Hour'].between(4,7, inclusive=True),'Part_ofthe_day'] = 'Early morning'\n",
    "uber.loc[uber['Request_Hour'].between(8,11, inclusive=True),'Part_ofthe_day'] = 'Morning'\n",
    "uber.loc[uber['Request_Hour'].between(11,15, inclusive=True),'Part_ofthe_day'] = 'Afternoon'\n",
    "uber.loc[uber['Request_Hour'].between(16,19, inclusive=True),'Part_ofthe_day'] = 'Evening'\n",
    "uber.loc[uber['Request_Hour'].between(20,23, inclusive=True),'Part_ofthe_day'] = 'Night'\n"
   ]
  },
  {
   "cell_type": "code",
   "execution_count": 41,
   "metadata": {},
   "outputs": [
    {
     "data": {
      "text/plain": [
       "Evening          1560\n",
       "Early morning    1452\n",
       "Night            1439\n",
       "Morning          1097\n",
       "Afternoon         822\n",
       "Late Nights       375\n",
       "Name: Part_ofthe_day, dtype: int64"
      ]
     },
     "execution_count": 41,
     "metadata": {},
     "output_type": "execute_result"
    }
   ],
   "source": [
    "uber['Part_ofthe_day'].value_counts()"
   ]
  },
  {
   "cell_type": "code",
   "execution_count": 42,
   "metadata": {},
   "outputs": [
    {
     "data": {
      "image/png": "[encoded data removed]",
      "text/plain": [
       "<Figure size 1008x504 with 1 Axes>"
      ]
     },
     "metadata": {
      "needs_background": "light"
     },
     "output_type": "display_data"
    },
    {
     "data": {
      "image/png": "[encoded data removed]",
      "text/plain": [
       "<Figure size 1008x504 with 1 Axes>"
      ]
     },
     "metadata": {
      "needs_background": "light"
     },
     "output_type": "display_data"
    }
   ],
   "source": [
    "# Time slots on route(i.e Airport-city, city-airport)\n",
    "\n",
    "plt.figure(figsize=(14,7))\n",
    "plt.subplot(2,1,1)\n",
    "plt.title(\"Time slots on route\")\n",
    "sns.countplot(x='Part_ofthe_day', hue = 'Pickup_point', data = uber,  palette=\"BuPu\",\n",
    "              order=['Early morning', 'Morning','Afternoon','Evening','Night','Late Nights'])\n",
    "plt.xticks(rotation=0)\n",
    "plt.show()\n",
    "\n",
    "# Time slots on Trip \n",
    "\n",
    "plt.figure(figsize=(14,7))\n",
    "plt.subplot(2,1,1)\n",
    "plt.title(\"Time slots of Trip canel and No cars\")\n",
    "uber_trip = uber[(uber.Status == 'Cancelled') | (uber.Status == 'No Cars Available')]\n",
    "sns.countplot(x='Part_ofthe_day', hue = 'Status', data = uber_trip,  palette=\"BuPu\",\n",
    "              order=['Early morning', 'Morning','Afternoon','Evening','Night','Late Nights'])\n",
    "plt.xticks(rotation=0)\n",
    "plt.show()"
   ]
  },
  {
   "cell_type": "code",
   "execution_count": 66,
   "metadata": {},
   "outputs": [
    {
     "data": {
      "text/plain": [
       "19"
      ]
     },
     "execution_count": 66,
     "metadata": {},
     "output_type": "execute_result"
    }
   ],
   "source": [
    "# severity of problem by location and their count (cancellation of cab as per the pickup location @Morning Rush)\n",
    "    \n",
    "df_morning_rush = uber[uber.Part_ofthe_day == \"Morning\"]\n",
    "airport_cancelled  = df_morning_rush.loc[(df_morning_rush[\"Pickup_point\"] == \"Airport\") & (df_morning_rush[\"Status\"] == \"Cancelled\")]\n",
    "len(airport_cancelled.index)"
   ]
  },
  {
   "cell_type": "code",
   "execution_count": 67,
   "metadata": {},
   "outputs": [
    {
     "data": {
      "text/plain": [
       "396"
      ]
     },
     "execution_count": 67,
     "metadata": {},
     "output_type": "execute_result"
    }
   ],
   "source": [
    "airport_cancelled  = df_morning_rush.loc[(df_morning_rush[\"Pickup_point\"] == \"City\") & (df_morning_rush[\"Status\"] == \"Cancelled\")]\n",
    "len(airport_cancelled.index)"
   ]
  },
  {
   "cell_type": "code",
   "execution_count": 70,
   "metadata": {},
   "outputs": [
    {
     "data": {
      "text/plain": [
       "250"
      ]
     },
     "execution_count": 70,
     "metadata": {},
     "output_type": "execute_result"
    }
   ],
   "source": [
    "city_completed_morning_rush = df_morning_rush.loc[(df_morning_rush[\"Pickup_point\"] == \"City\") & (df_morning_rush[\"Status\"] == \"Trip Completed\")]\n",
    "len(city_completed_morning_rush.index)"
   ]
  },
  {
   "cell_type": "code",
   "execution_count": 71,
   "metadata": {},
   "outputs": [
    {
     "data": {
      "text/plain": [
       "860"
      ]
     },
     "execution_count": 71,
     "metadata": {},
     "output_type": "execute_result"
    }
   ],
   "source": [
    "city_morning_rush  = df_morning_rush.loc[(df_morning_rush[\"Pickup_point\"] == \"City\")]\n",
    "len(city_morning_rush.index)"
   ]
  },
  {
   "cell_type": "code",
   "execution_count": 72,
   "metadata": {},
   "outputs": [],
   "source": [
    "# Suuply and Demand (Identifying time slots when the highest gap exists)\n",
    "\n",
    "# creating derived metrics to find the Gap \n",
    "uber['Gap'] = uber['Status'].apply(lambda x : 'Supply' if x == 'Trip Completed' else 'Demand')"
   ]
  },
  {
   "cell_type": "code",
   "execution_count": 73,
   "metadata": {
    "scrolled": true
   },
   "outputs": [
    {
     "data": {
      "image/png": "[encoded data removed]",
      "text/plain": [
       "<Figure size 1008x504 with 1 Axes>"
      ]
     },
     "metadata": {
      "needs_background": "light"
     },
     "output_type": "display_data"
    }
   ],
   "source": [
    "# plotting  suuply/demand w.r.t time slots\n",
    "\n",
    "plt.figure(figsize=(14,7))\n",
    "plt.title(\"Time slot when gap exists\")\n",
    "sns.countplot(x='Part_ofthe_day', hue = 'Gap', data = uber,  palette=\"Blues\",\n",
    "             order=['Early morning', 'Morning','Afternoon','Evening','Night','Late Nights'])\n",
    "plt.show()"
   ]
  },
  {
   "cell_type": "code",
   "execution_count": 74,
   "metadata": {},
   "outputs": [
    {
     "data": {
      "text/plain": [
       "Demand    3914\n",
       "Supply    2831\n",
       "Name: Gap, dtype: int64"
      ]
     },
     "execution_count": 74,
     "metadata": {},
     "output_type": "execute_result"
    }
   ],
   "source": [
    "# Supply Vs Demand \n",
    "\n",
    "uber['Gap'].value_counts()"
   ]
  },
  {
   "cell_type": "code",
   "execution_count": 110,
   "metadata": {},
   "outputs": [
    {
     "data": {
      "text/plain": [
       "Part_ofthe_day  Gap     Pickup_point\n",
       "Afternoon       Demand  Airport         106\n",
       "                        City            201\n",
       "                Supply  Airport         236\n",
       "                        City            279\n",
       "Early morning   Demand  Airport          59\n",
       "                        City            789\n",
       "                Supply  Airport         277\n",
       "                        City            327\n",
       "Evening         Demand  Airport         864\n",
       "                        City            124\n",
       "                Supply  Airport         276\n",
       "                        City            296\n",
       "Late Nights     Demand  Airport         114\n",
       "                        City            125\n",
       "                Supply  Airport          67\n",
       "                        City             69\n",
       "Morning         Demand  Airport          43\n",
       "                        City            610\n",
       "                Supply  Airport         194\n",
       "                        City            250\n",
       "Night           Demand  Airport         725\n",
       "                        City            154\n",
       "                Supply  Airport         277\n",
       "                        City            283\n",
       "dtype: int64"
      ]
     },
     "execution_count": 110,
     "metadata": {},
     "output_type": "execute_result"
    }
   ],
   "source": [
    "# Indetifying overall supply-demand w.r.t pickuppoint\n",
    "\n",
    "supply_demand =uber[['Part_ofthe_day','Pickup_point', 'Gap']]\n",
    "supply_demand = supply_demand.groupby([\"Part_ofthe_day\", \"Gap\",\"Pickup_point\"]).size()\n",
    "supply_demand"
   ]
  },
  {
   "cell_type": "code",
   "execution_count": 80,
   "metadata": {},
   "outputs": [
    {
     "data": {
      "image/png": "[encoded data removed]",
      "text/plain": [
       "<Figure size 798.375x360 with 2 Axes>"
      ]
     },
     "metadata": {
      "needs_background": "light"
     },
     "output_type": "display_data"
    }
   ],
   "source": [
    "# Identifying supply and demand w.r.t timeslots of the day\n",
    "\n",
    "sns.catplot(x='Part_ofthe_day', kind='count', col='Pickup_point',hue='Gap', data=uber, \n",
    "            palette=\"cubehelix\", order=['Early morning', 'Morning','Afternoon','Evening','Night','Late Nights'])\n",
    "#plt.xticks(rotation=90)\n",
    "plt.show()"
   ]
  }
 ],
 "metadata": {
  "kernelspec": {
   "display_name": "Python 3",
   "language": "python",
   "name": "python3"
  },
  "language_info": {
   "codemirror_mode": {
    "name": "ipython",
    "version": 3
   },
   "file_extension": ".py",
   "mimetype": "text/x-python",
   "name": "python",
   "nbconvert_exporter": "python",
   "pygments_lexer": "ipython3",
   "version": "3.7.1"
  }
 },
 "nbformat": 4,
 "nbformat_minor": 2
}
